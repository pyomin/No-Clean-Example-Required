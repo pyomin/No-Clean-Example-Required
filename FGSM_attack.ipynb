{
 "cells": [
  {
   "cell_type": "code",
   "execution_count": 1,
   "metadata": {
    "id": "xOKcRF40d8kM"
   },
   "outputs": [],
   "source": [
    "import torch\n",
    "import torch.nn.functional as F\n",
    "import torchvision.models as models\n",
    "import torchvision.transforms as transforms\n",
    "import matplotlib.pyplot as plt\n",
    "from torchvision.utils import save_image\n",
    "from PIL import Image\n",
    "import os \n",
    "import json\n",
    "import tensorflow as tf\n",
    "import numpy as np "
   ]
  },
  {
   "cell_type": "code",
   "execution_count": 2,
   "metadata": {},
   "outputs": [],
   "source": [
    "from tensorflow.keras.datasets import mnist\n",
    "(train_images,train_labels),(test_images,test_labels) = mnist.load_data()"
   ]
  },
  {
   "cell_type": "code",
   "execution_count": 3,
   "metadata": {
    "scrolled": true
   },
   "outputs": [
    {
     "data": {
      "text/plain": [
       "'1.11.0+cu113'"
      ]
     },
     "execution_count": 3,
     "metadata": {},
     "output_type": "execute_result"
    }
   ],
   "source": [
    "torch.__version__"
   ]
  },
  {
   "cell_type": "code",
   "execution_count": 4,
   "metadata": {},
   "outputs": [],
   "source": [
    "gpus = tf.config.experimental.list_physical_devices('GPU')\n",
    "if gpus:    \n",
    "    try:\n",
    "        tf.config.experimental.set_visible_devices(gpus[1], 'GPU')\n",
    "    except RuntimeError as e:        \n",
    "        print(e)"
   ]
  },
  {
   "cell_type": "markdown",
   "metadata": {
    "id": "kSx8MdYheM3F"
   },
   "source": [
    "Loading a Trained Model"
   ]
  },
  {
   "cell_type": "code",
   "execution_count": 5,
   "metadata": {
    "colab": {
     "base_uri": "https://localhost:8080/"
    },
    "id": "_b1ehFjoeEDV",
    "outputId": "88d594ff-0055-4011-f5f1-dab437c0b42d"
   },
   "outputs": [
    {
     "name": "stdout",
     "output_type": "stream",
     "text": [
      "GraphModule(\n",
      "  (initializers): Module()\n",
      "  (Reshape_0): OnnxReshape()\n",
      "  (Conv_0): Conv2d(1, 64, kernel_size=(7, 7), stride=(2, 2), padding=(3, 3))\n",
      "  (Relu_0): ReLU()\n",
      "  (Pad_0): OnnxPadDynamic()\n",
      "  (MaxPool_0): MaxPool2d(kernel_size=[3, 3], stride=[2, 2], padding=[0, 0], dilation=1, ceil_mode=False)\n",
      "  (Conv_1): Conv2d(64, 256, kernel_size=(1, 1), stride=(1, 1))\n",
      "  (Conv_2): Conv2d(64, 64, kernel_size=(1, 1), stride=(1, 1))\n",
      "  (Relu_1): ReLU()\n",
      "  (Conv_3): Conv2d(64, 64, kernel_size=(3, 3), stride=(1, 1), padding=(1, 1))\n",
      "  (Relu_2): ReLU()\n",
      "  (Conv_4): Conv2d(64, 256, kernel_size=(1, 1), stride=(1, 1))\n",
      "  (Add_0): OnnxBinaryMathOperation()\n",
      "  (Relu_3): ReLU()\n",
      "  (Conv_5): Conv2d(256, 64, kernel_size=(1, 1), stride=(1, 1))\n",
      "  (Relu_4): ReLU()\n",
      "  (Conv_6): Conv2d(64, 64, kernel_size=(3, 3), stride=(1, 1), padding=(1, 1))\n",
      "  (Relu_5): ReLU()\n",
      "  (Conv_7): Conv2d(64, 256, kernel_size=(1, 1), stride=(1, 1))\n",
      "  (Add_1): OnnxBinaryMathOperation()\n",
      "  (Relu_6): ReLU()\n",
      "  (Conv_8): Conv2d(256, 64, kernel_size=(1, 1), stride=(1, 1))\n",
      "  (Relu_7): ReLU()\n",
      "  (Conv_9): Conv2d(64, 64, kernel_size=(3, 3), stride=(1, 1), padding=(1, 1))\n",
      "  (Relu_8): ReLU()\n",
      "  (Conv_10): Conv2d(64, 256, kernel_size=(1, 1), stride=(1, 1))\n",
      "  (Add_2): OnnxBinaryMathOperation()\n",
      "  (Relu_9): ReLU()\n",
      "  (Conv_11): Conv2d(256, 512, kernel_size=(1, 1), stride=(2, 2))\n",
      "  (Conv_12): Conv2d(256, 128, kernel_size=(1, 1), stride=(2, 2))\n",
      "  (Relu_10): ReLU()\n",
      "  (Conv_13): Conv2d(128, 128, kernel_size=(3, 3), stride=(1, 1), padding=(1, 1))\n",
      "  (Relu_11): ReLU()\n",
      "  (Conv_14): Conv2d(128, 512, kernel_size=(1, 1), stride=(1, 1))\n",
      "  (Add_3): OnnxBinaryMathOperation()\n",
      "  (Relu_12): ReLU()\n",
      "  (Conv_15): Conv2d(512, 128, kernel_size=(1, 1), stride=(1, 1))\n",
      "  (Relu_13): ReLU()\n",
      "  (Conv_16): Conv2d(128, 128, kernel_size=(3, 3), stride=(1, 1), padding=(1, 1))\n",
      "  (Relu_14): ReLU()\n",
      "  (Conv_17): Conv2d(128, 512, kernel_size=(1, 1), stride=(1, 1))\n",
      "  (Add_4): OnnxBinaryMathOperation()\n",
      "  (Relu_15): ReLU()\n",
      "  (Conv_18): Conv2d(512, 128, kernel_size=(1, 1), stride=(1, 1))\n",
      "  (Relu_16): ReLU()\n",
      "  (Conv_19): Conv2d(128, 128, kernel_size=(3, 3), stride=(1, 1), padding=(1, 1))\n",
      "  (Relu_17): ReLU()\n",
      "  (Conv_20): Conv2d(128, 512, kernel_size=(1, 1), stride=(1, 1))\n",
      "  (Add_5): OnnxBinaryMathOperation()\n",
      "  (Relu_18): ReLU()\n",
      "  (Conv_21): Conv2d(512, 128, kernel_size=(1, 1), stride=(1, 1))\n",
      "  (Relu_19): ReLU()\n",
      "  (Conv_22): Conv2d(128, 128, kernel_size=(3, 3), stride=(1, 1), padding=(1, 1))\n",
      "  (Relu_20): ReLU()\n",
      "  (Conv_23): Conv2d(128, 512, kernel_size=(1, 1), stride=(1, 1))\n",
      "  (Add_6): OnnxBinaryMathOperation()\n",
      "  (Relu_21): ReLU()\n",
      "  (Conv_24): Conv2d(512, 1024, kernel_size=(1, 1), stride=(2, 2))\n",
      "  (Conv_25): Conv2d(512, 256, kernel_size=(1, 1), stride=(2, 2))\n",
      "  (Relu_22): ReLU()\n",
      "  (Conv_26): Conv2d(256, 256, kernel_size=(3, 3), stride=(1, 1), padding=(1, 1))\n",
      "  (Relu_23): ReLU()\n",
      "  (Conv_27): Conv2d(256, 1024, kernel_size=(1, 1), stride=(1, 1))\n",
      "  (Add_7): OnnxBinaryMathOperation()\n",
      "  (Relu_24): ReLU()\n",
      "  (Conv_28): Conv2d(1024, 256, kernel_size=(1, 1), stride=(1, 1))\n",
      "  (Relu_25): ReLU()\n",
      "  (Conv_29): Conv2d(256, 256, kernel_size=(3, 3), stride=(1, 1), padding=(1, 1))\n",
      "  (Relu_26): ReLU()\n",
      "  (Conv_30): Conv2d(256, 1024, kernel_size=(1, 1), stride=(1, 1))\n",
      "  (Add_8): OnnxBinaryMathOperation()\n",
      "  (Relu_27): ReLU()\n",
      "  (Conv_31): Conv2d(1024, 256, kernel_size=(1, 1), stride=(1, 1))\n",
      "  (Relu_28): ReLU()\n",
      "  (Conv_32): Conv2d(256, 256, kernel_size=(3, 3), stride=(1, 1), padding=(1, 1))\n",
      "  (Relu_29): ReLU()\n",
      "  (Conv_33): Conv2d(256, 1024, kernel_size=(1, 1), stride=(1, 1))\n",
      "  (Add_9): OnnxBinaryMathOperation()\n",
      "  (Relu_30): ReLU()\n",
      "  (Conv_34): Conv2d(1024, 256, kernel_size=(1, 1), stride=(1, 1))\n",
      "  (Relu_31): ReLU()\n",
      "  (Conv_35): Conv2d(256, 256, kernel_size=(3, 3), stride=(1, 1), padding=(1, 1))\n",
      "  (Relu_32): ReLU()\n",
      "  (Conv_36): Conv2d(256, 1024, kernel_size=(1, 1), stride=(1, 1))\n",
      "  (Add_10): OnnxBinaryMathOperation()\n",
      "  (Relu_33): ReLU()\n",
      "  (Conv_37): Conv2d(1024, 256, kernel_size=(1, 1), stride=(1, 1))\n",
      "  (Relu_34): ReLU()\n",
      "  (Conv_38): Conv2d(256, 256, kernel_size=(3, 3), stride=(1, 1), padding=(1, 1))\n",
      "  (Relu_35): ReLU()\n",
      "  (Conv_39): Conv2d(256, 1024, kernel_size=(1, 1), stride=(1, 1))\n",
      "  (Add_11): OnnxBinaryMathOperation()\n",
      "  (Relu_36): ReLU()\n",
      "  (Conv_40): Conv2d(1024, 256, kernel_size=(1, 1), stride=(1, 1))\n",
      "  (Relu_37): ReLU()\n",
      "  (Conv_41): Conv2d(256, 256, kernel_size=(3, 3), stride=(1, 1), padding=(1, 1))\n",
      "  (Relu_38): ReLU()\n",
      "  (Conv_42): Conv2d(256, 1024, kernel_size=(1, 1), stride=(1, 1))\n",
      "  (Add_12): OnnxBinaryMathOperation()\n",
      "  (Relu_39): ReLU()\n",
      "  (Conv_43): Conv2d(1024, 2048, kernel_size=(1, 1), stride=(2, 2))\n",
      "  (Conv_44): Conv2d(1024, 512, kernel_size=(1, 1), stride=(2, 2))\n",
      "  (Relu_40): ReLU()\n",
      "  (Conv_45): Conv2d(512, 512, kernel_size=(3, 3), stride=(1, 1), padding=(1, 1))\n",
      "  (Relu_41): ReLU()\n",
      "  (Conv_46): Conv2d(512, 2048, kernel_size=(1, 1), stride=(1, 1))\n",
      "  (Add_13): OnnxBinaryMathOperation()\n",
      "  (Relu_42): ReLU()\n",
      "  (Conv_47): Conv2d(2048, 512, kernel_size=(1, 1), stride=(1, 1))\n",
      "  (Relu_43): ReLU()\n",
      "  (Conv_48): Conv2d(512, 512, kernel_size=(3, 3), stride=(1, 1), padding=(1, 1))\n",
      "  (Relu_44): ReLU()\n",
      "  (Conv_49): Conv2d(512, 2048, kernel_size=(1, 1), stride=(1, 1))\n",
      "  (Add_14): OnnxBinaryMathOperation()\n",
      "  (Relu_45): ReLU()\n",
      "  (Conv_50): Conv2d(2048, 512, kernel_size=(1, 1), stride=(1, 1))\n",
      "  (Relu_46): ReLU()\n",
      "  (Conv_51): Conv2d(512, 512, kernel_size=(3, 3), stride=(1, 1), padding=(1, 1))\n",
      "  (Relu_47): ReLU()\n",
      "  (Conv_52): Conv2d(512, 2048, kernel_size=(1, 1), stride=(1, 1))\n",
      "  (Add_15): OnnxBinaryMathOperation()\n",
      "  (Relu_48): ReLU()\n",
      "  (GlobalAveragePool_0): OnnxGlobalAveragePoolWithKnownInputShape()\n",
      "  (Squeeze_0): OnnxSqueezeDynamicAxes()\n",
      "  (MatMul_0): OnnxMatMul()\n",
      "  (Add_16): OnnxBinaryMathOperation()\n",
      "  (Softmax_0): Softmax(dim=-1)\n",
      ")\n",
      "\n",
      "\n",
      "\n",
      "def forward(self, input_1):\n",
      "    initializers_onnx_initializer_0 = self.initializers.onnx_initializer_0\n",
      "    reshape_0 = self.Reshape_0(input_1, initializers_onnx_initializer_0);  input_1 = initializers_onnx_initializer_0 = None\n",
      "    conv_0 = self.Conv_0(reshape_0);  reshape_0 = None\n",
      "    relu_0 = self.Relu_0(conv_0);  conv_0 = None\n",
      "    initializers_onnx_initializer_1 = self.initializers.onnx_initializer_1\n",
      "    pad_0 = self.Pad_0(relu_0, initializers_onnx_initializer_1);  relu_0 = initializers_onnx_initializer_1 = None\n",
      "    max_pool_0 = self.MaxPool_0(pad_0);  pad_0 = None\n",
      "    conv_1 = self.Conv_1(max_pool_0)\n",
      "    conv_2 = self.Conv_2(max_pool_0);  max_pool_0 = None\n",
      "    relu_1 = self.Relu_1(conv_2);  conv_2 = None\n",
      "    conv_3 = self.Conv_3(relu_1);  relu_1 = None\n",
      "    relu_2 = self.Relu_2(conv_3);  conv_3 = None\n",
      "    conv_4 = self.Conv_4(relu_2);  relu_2 = None\n",
      "    add_0 = self.Add_0(conv_4, conv_1);  conv_4 = conv_1 = None\n",
      "    relu_3 = self.Relu_3(add_0);  add_0 = None\n",
      "    conv_5 = self.Conv_5(relu_3)\n",
      "    relu_4 = self.Relu_4(conv_5);  conv_5 = None\n",
      "    conv_6 = self.Conv_6(relu_4);  relu_4 = None\n",
      "    relu_5 = self.Relu_5(conv_6);  conv_6 = None\n",
      "    conv_7 = self.Conv_7(relu_5);  relu_5 = None\n",
      "    add_1 = self.Add_1(conv_7, relu_3);  conv_7 = relu_3 = None\n",
      "    relu_6 = self.Relu_6(add_1);  add_1 = None\n",
      "    conv_8 = self.Conv_8(relu_6)\n",
      "    relu_7 = self.Relu_7(conv_8);  conv_8 = None\n",
      "    conv_9 = self.Conv_9(relu_7);  relu_7 = None\n",
      "    relu_8 = self.Relu_8(conv_9);  conv_9 = None\n",
      "    conv_10 = self.Conv_10(relu_8);  relu_8 = None\n",
      "    add_2 = self.Add_2(conv_10, relu_6);  conv_10 = relu_6 = None\n",
      "    relu_9 = self.Relu_9(add_2);  add_2 = None\n",
      "    conv_11 = self.Conv_11(relu_9)\n",
      "    conv_12 = self.Conv_12(relu_9);  relu_9 = None\n",
      "    relu_10 = self.Relu_10(conv_12);  conv_12 = None\n",
      "    conv_13 = self.Conv_13(relu_10);  relu_10 = None\n",
      "    relu_11 = self.Relu_11(conv_13);  conv_13 = None\n",
      "    conv_14 = self.Conv_14(relu_11);  relu_11 = None\n",
      "    add_3 = self.Add_3(conv_14, conv_11);  conv_14 = conv_11 = None\n",
      "    relu_12 = self.Relu_12(add_3);  add_3 = None\n",
      "    conv_15 = self.Conv_15(relu_12)\n",
      "    relu_13 = self.Relu_13(conv_15);  conv_15 = None\n",
      "    conv_16 = self.Conv_16(relu_13);  relu_13 = None\n",
      "    relu_14 = self.Relu_14(conv_16);  conv_16 = None\n",
      "    conv_17 = self.Conv_17(relu_14);  relu_14 = None\n",
      "    add_4 = self.Add_4(conv_17, relu_12);  conv_17 = relu_12 = None\n",
      "    relu_15 = self.Relu_15(add_4);  add_4 = None\n",
      "    conv_18 = self.Conv_18(relu_15)\n",
      "    relu_16 = self.Relu_16(conv_18);  conv_18 = None\n",
      "    conv_19 = self.Conv_19(relu_16);  relu_16 = None\n",
      "    relu_17 = self.Relu_17(conv_19);  conv_19 = None\n",
      "    conv_20 = self.Conv_20(relu_17);  relu_17 = None\n",
      "    add_5 = self.Add_5(conv_20, relu_15);  conv_20 = relu_15 = None\n",
      "    relu_18 = self.Relu_18(add_5);  add_5 = None\n",
      "    conv_21 = self.Conv_21(relu_18)\n",
      "    relu_19 = self.Relu_19(conv_21);  conv_21 = None\n",
      "    conv_22 = self.Conv_22(relu_19);  relu_19 = None\n",
      "    relu_20 = self.Relu_20(conv_22);  conv_22 = None\n",
      "    conv_23 = self.Conv_23(relu_20);  relu_20 = None\n",
      "    add_6 = self.Add_6(conv_23, relu_18);  conv_23 = relu_18 = None\n",
      "    relu_21 = self.Relu_21(add_6);  add_6 = None\n",
      "    conv_24 = self.Conv_24(relu_21)\n",
      "    conv_25 = self.Conv_25(relu_21);  relu_21 = None\n",
      "    relu_22 = self.Relu_22(conv_25);  conv_25 = None\n",
      "    conv_26 = self.Conv_26(relu_22);  relu_22 = None\n",
      "    relu_23 = self.Relu_23(conv_26);  conv_26 = None\n",
      "    conv_27 = self.Conv_27(relu_23);  relu_23 = None\n",
      "    add_7 = self.Add_7(conv_27, conv_24);  conv_27 = conv_24 = None\n",
      "    relu_24 = self.Relu_24(add_7);  add_7 = None\n",
      "    conv_28 = self.Conv_28(relu_24)\n",
      "    relu_25 = self.Relu_25(conv_28);  conv_28 = None\n",
      "    conv_29 = self.Conv_29(relu_25);  relu_25 = None\n",
      "    relu_26 = self.Relu_26(conv_29);  conv_29 = None\n",
      "    conv_30 = self.Conv_30(relu_26);  relu_26 = None\n",
      "    add_8 = self.Add_8(conv_30, relu_24);  conv_30 = relu_24 = None\n",
      "    relu_27 = self.Relu_27(add_8);  add_8 = None\n",
      "    conv_31 = self.Conv_31(relu_27)\n",
      "    relu_28 = self.Relu_28(conv_31);  conv_31 = None\n",
      "    conv_32 = self.Conv_32(relu_28);  relu_28 = None\n",
      "    relu_29 = self.Relu_29(conv_32);  conv_32 = None\n",
      "    conv_33 = self.Conv_33(relu_29);  relu_29 = None\n",
      "    add_9 = self.Add_9(conv_33, relu_27);  conv_33 = relu_27 = None\n",
      "    relu_30 = self.Relu_30(add_9);  add_9 = None\n",
      "    conv_34 = self.Conv_34(relu_30)\n",
      "    relu_31 = self.Relu_31(conv_34);  conv_34 = None\n",
      "    conv_35 = self.Conv_35(relu_31);  relu_31 = None\n",
      "    relu_32 = self.Relu_32(conv_35);  conv_35 = None\n",
      "    conv_36 = self.Conv_36(relu_32);  relu_32 = None\n",
      "    add_10 = self.Add_10(conv_36, relu_30);  conv_36 = relu_30 = None\n",
      "    relu_33 = self.Relu_33(add_10);  add_10 = None\n",
      "    conv_37 = self.Conv_37(relu_33)\n",
      "    relu_34 = self.Relu_34(conv_37);  conv_37 = None\n",
      "    conv_38 = self.Conv_38(relu_34);  relu_34 = None\n",
      "    relu_35 = self.Relu_35(conv_38);  conv_38 = None\n",
      "    conv_39 = self.Conv_39(relu_35);  relu_35 = None\n",
      "    add_11 = self.Add_11(conv_39, relu_33);  conv_39 = relu_33 = None\n",
      "    relu_36 = self.Relu_36(add_11);  add_11 = None\n",
      "    conv_40 = self.Conv_40(relu_36)\n",
      "    relu_37 = self.Relu_37(conv_40);  conv_40 = None\n",
      "    conv_41 = self.Conv_41(relu_37);  relu_37 = None\n",
      "    relu_38 = self.Relu_38(conv_41);  conv_41 = None\n",
      "    conv_42 = self.Conv_42(relu_38);  relu_38 = None\n",
      "    add_12 = self.Add_12(conv_42, relu_36);  conv_42 = relu_36 = None\n",
      "    relu_39 = self.Relu_39(add_12);  add_12 = None\n",
      "    conv_43 = self.Conv_43(relu_39)\n",
      "    conv_44 = self.Conv_44(relu_39);  relu_39 = None\n",
      "    relu_40 = self.Relu_40(conv_44);  conv_44 = None\n",
      "    conv_45 = self.Conv_45(relu_40);  relu_40 = None\n",
      "    relu_41 = self.Relu_41(conv_45);  conv_45 = None\n",
      "    conv_46 = self.Conv_46(relu_41);  relu_41 = None\n",
      "    add_13 = self.Add_13(conv_46, conv_43);  conv_46 = conv_43 = None\n",
      "    relu_42 = self.Relu_42(add_13);  add_13 = None\n",
      "    conv_47 = self.Conv_47(relu_42)\n",
      "    relu_43 = self.Relu_43(conv_47);  conv_47 = None\n",
      "    conv_48 = self.Conv_48(relu_43);  relu_43 = None\n",
      "    relu_44 = self.Relu_44(conv_48);  conv_48 = None\n",
      "    conv_49 = self.Conv_49(relu_44);  relu_44 = None\n",
      "    add_14 = self.Add_14(conv_49, relu_42);  conv_49 = relu_42 = None\n",
      "    relu_45 = self.Relu_45(add_14);  add_14 = None\n",
      "    conv_50 = self.Conv_50(relu_45)\n",
      "    relu_46 = self.Relu_46(conv_50);  conv_50 = None\n",
      "    conv_51 = self.Conv_51(relu_46);  relu_46 = None\n",
      "    relu_47 = self.Relu_47(conv_51);  conv_51 = None\n",
      "    conv_52 = self.Conv_52(relu_47);  relu_47 = None\n",
      "    add_15 = self.Add_15(conv_52, relu_45);  conv_52 = relu_45 = None\n",
      "    relu_48 = self.Relu_48(add_15);  add_15 = None\n",
      "    global_average_pool_0 = self.GlobalAveragePool_0(relu_48);  relu_48 = None\n",
      "    initializers_onnx_initializer_2 = self.initializers.onnx_initializer_2\n",
      "    squeeze_0 = self.Squeeze_0(global_average_pool_0, initializers_onnx_initializer_2);  global_average_pool_0 = initializers_onnx_initializer_2 = None\n",
      "    initializers_onnx_initializer_3 = self.initializers.onnx_initializer_3\n",
      "    mat_mul_0 = self.MatMul_0(squeeze_0, initializers_onnx_initializer_3);  squeeze_0 = initializers_onnx_initializer_3 = None\n",
      "    initializers_onnx_initializer_4 = self.initializers.onnx_initializer_4\n",
      "    add_16 = self.Add_16(mat_mul_0, initializers_onnx_initializer_4);  mat_mul_0 = initializers_onnx_initializer_4 = None\n",
      "    softmax_0 = self.Softmax_0(add_16);  add_16 = None\n",
      "    return softmax_0\n",
      "    \n"
     ]
    }
   ],
   "source": [
    "model = torch.load('./model/MNIST.pth')# Loading the ResNet-50 Version Trained on the MNIST Dataset\n",
    "model.eval()\n",
    "print(model)#Printing the Model Architecture"
   ]
  },
  {
   "cell_type": "markdown",
   "metadata": {
    "id": "ExH-H7oxeRX4"
   },
   "source": [
    "Loading the Dataset"
   ]
  },
  {
   "cell_type": "code",
   "execution_count": 6,
   "metadata": {
    "id": "XFcnbxqZeSVm"
   },
   "outputs": [
    {
     "name": "stdout",
     "output_type": "stream",
     "text": [
      "['0', '1', '2', '3', '4', '5', '6', '7', '8', '9']\n"
     ]
    }
   ],
   "source": [
    "CLASSES = json.load(open('./model/mnist_class_index.json'))\n",
    "#Loading the Dataset for Training (Class JSON File)\n",
    "idx2class = [CLASSES[str(i)] for i in range(10)]\n",
    "print(idx2class)\n",
    "#Setting Class IDs"
   ]
  },
  {
   "cell_type": "markdown",
   "metadata": {
    "id": "rXOCzvphegj5"
   },
   "source": [
    "Loading the Image"
   ]
  },
  {
   "cell_type": "code",
   "execution_count": 7,
   "metadata": {
    "id": "fzu2SdNJfLDq"
   },
   "outputs": [],
   "source": [
    "def fgsm_attack(image, epsilon, gradient):\n",
    "    # Computing the Sign of the Gradient Elements\n",
    "    sign_gradient = gradient.sign()\n",
    "    # Adjusting Each Pixel Value of the Image by Epsilon in the Sign Gradient Direction\n",
    "    perturbed_image = image + epsilon * sign_gradient\n",
    "    # Clipping Values Outside the [0, 1] Range\n",
    "    perturbed_image = torch.clamp(perturbed_image, 0, 1)\n",
    "    return perturbed_image"
   ]
  },
  {
   "cell_type": "code",
   "execution_count": 8,
   "metadata": {},
   "outputs": [
    {
     "data": {
      "text/plain": [
       "<matplotlib.image.AxesImage at 0x7fa97a444310>"
      ]
     },
     "execution_count": 8,
     "metadata": {},
     "output_type": "execute_result"
    },
    {
     "data": {
      "image/png": "[encoded data removed]",
      "text/plain": [
       "<Figure size 432x288 with 1 Axes>"
      ]
     },
     "metadata": {
      "needs_background": "light"
     },
     "output_type": "display_data"
    }
   ],
   "source": [
    "plt.imshow(train_images[2],cmap=plt.cm.binary)"
   ]
  },
  {
   "cell_type": "code",
   "execution_count": 9,
   "metadata": {},
   "outputs": [
    {
     "name": "stdout",
     "output_type": "stream",
     "text": [
      "Image Tensor Shape: torch.Size([1, 1, 28, 28])\n"
     ]
    }
   ],
   "source": [
    "img_transforms = transforms.Compose([ \n",
    "    #transforms.Resize((28, 28), Image.BICUBIC),\n",
    "    transforms.ToTensor(),\n",
    "])\n",
    "\n",
    "img_tensor = img_transforms(train_images[2])\n",
    "img_tensor = img_tensor.unsqueeze(0)\n",
    "\n",
    "print(\"Image Tensor Shape:\", img_tensor.size())\n",
    "\n",
    "img_tensor.requires_grad_(True)\n",
    "\n",
    "# Passing the Image through the Model\n",
    "output = model(img_tensor)\n",
    "\n",
    "# Calculating the Error Value\n",
    "loss = F.nll_loss(output, torch.tensor([train_labels[2]])) \n",
    "\n",
    "# Calculating the Gradient\n",
    "model.zero_grad()\n",
    "loss.backward()\n",
    "#Storing the Derivatives and Extracting the Gradient Values\n",
    "\n",
    "# Extracting the Gradient of the Image\n",
    "gradient = img_tensor.grad.data\n",
    "\n",
    "# Generating Adversarial Examples Using the FGSM Attack\n",
    "epsilon = 0.3\n",
    "perturbed_data = fgsm_attack(img_tensor, epsilon, gradient)\n",
    "#save_image(perturbed_data, path2+i)\n",
    "#print('%s is successfully added' %(path2+i))\n",
    "\n",
    "img_reshaped = perturbed_data.squeeze().detach().numpy()\n",
    "img_pil = Image.fromarray((img_reshaped * 255).astype('uint8'), mode='L')\n",
    "# img_name = f\"image_{i}.png\"\n",
    "# img_pil.save(path2+img_name)\n",
    "# print('%s is successfully added' %(i))  "
   ]
  },
  {
   "cell_type": "code",
   "execution_count": 10,
   "metadata": {},
   "outputs": [
    {
     "data": {
      "image/png": "[encoded data removed]",
      "text/plain": [
       "<Figure size 432x288 with 1 Axes>"
      ]
     },
     "metadata": {
      "needs_background": "light"
     },
     "output_type": "display_data"
    }
   ],
   "source": [
    "plt.imshow(img_pil,cmap=plt.cm.binary)\n",
    "plt.show()"
   ]
  },
  {
   "cell_type": "code",
   "execution_count": 11,
   "metadata": {},
   "outputs": [
    {
     "name": "stdout",
     "output_type": "stream",
     "text": [
      "Predicted Label Number: 2\n",
      "Actual Label: 4\n"
     ]
    }
   ],
   "source": [
    "ori_output = model(img_tensor)\n",
    "ori_prediction = ori_output.max(1,keepdim=True)[1]\n",
    "#Highest Probability Prediction Class\n",
    "\n",
    "prediction_idx = ori_prediction.item()\n",
    "\n",
    "prediction_name = idx2class[prediction_idx]\n",
    "\n",
    "output = model(perturbed_data)\n",
    "prediction = output.max(1,keepdim=True)[1]\n",
    "#Highest Probability Prediction Class\n",
    "\n",
    "prediction_idx = prediction.item()\n",
    "\n",
    "print(\"Predicted Label Number:\", prediction_idx)\n",
    "print(\"Actual Label:\", prediction_name)"
   ]
  },
  {
   "cell_type": "code",
   "execution_count": null,
   "metadata": {},
   "outputs": [],
   "source": []
  }
 ],
 "metadata": {
  "colab": {
   "collapsed_sections": [],
   "provenance": []
  },
  "kernelspec": {
   "display_name": "Python 3 (ipykernel)",
   "language": "python",
   "name": "python3"
  },
  "language_info": {
   "codemirror_mode": {
    "name": "ipython",
    "version": 3
   },
   "file_extension": ".py",
   "mimetype": "text/x-python",
   "name": "python",
   "nbconvert_exporter": "python",
   "pygments_lexer": "ipython3",
   "version": "3.8.10"
  }
 },
 "nbformat": 4,
 "nbformat_minor": 1
}
