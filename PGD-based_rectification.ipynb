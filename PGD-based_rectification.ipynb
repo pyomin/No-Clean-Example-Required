{
 "cells": [
  {
   "cell_type": "markdown",
   "metadata": {},
   "source": [
    "## 1. Requirements"
   ]
  },
  {
   "cell_type": "code",
   "execution_count": null,
   "metadata": {},
   "outputs": [],
   "source": [
    "#!pip install torch==1.12.0+cu113 torchvision==0.13.0+cu113 torchaudio==0.12.0 -f https://download.pytorch.org/whl/torch_stable.html"
   ]
  },
  {
   "cell_type": "code",
   "execution_count": 1,
   "metadata": {},
   "outputs": [],
   "source": [
    "import numpy as np\n",
    "import json\n",
    "\n",
    "import torchattacks\n",
    "import torch\n",
    "import torch.nn as nn\n",
    "import torch.nn.functional as F\n",
    "import torch.optim as optim\n",
    "import torch.utils.data as Data\n",
    "import torchvision.utils\n",
    "from torchvision import models\n",
    "import torchvision.datasets as dsets\n",
    "import torchvision.transforms as transforms\n",
    "import torchsummary\n",
    "from torchvision.utils import save_image\n",
    "import PIL\n",
    "from datetime import datetime\n",
    "\n",
    "from PIL import Image,ImageFile\n",
    "ImageFile.LOAD_TRUNCATED_IMAGES = True\n",
    "import os"
   ]
  },
  {
   "cell_type": "code",
   "execution_count": 2,
   "metadata": {},
   "outputs": [
    {
     "data": {
      "text/plain": [
       "'1.11.0+cu113'"
      ]
     },
     "execution_count": 2,
     "metadata": {},
     "output_type": "execute_result"
    }
   ],
   "source": [
    "torch.__version__"
   ]
  },
  {
   "cell_type": "code",
   "execution_count": 3,
   "metadata": {},
   "outputs": [],
   "source": [
    "import matplotlib.pyplot as plt\n",
    "%matplotlib inline"
   ]
  },
  {
   "cell_type": "markdown",
   "metadata": {},
   "source": [
    "## 2. Set Args"
   ]
  },
  {
   "cell_type": "code",
   "execution_count": 4,
   "metadata": {},
   "outputs": [],
   "source": [
    "use_cuda = True\n",
    "device = torch.device(\"cuda\" if use_cuda else \"cpu\")\n",
    "os.environ[\"CUDA_VISIBLE_DEVICES\"]= \"0\""
   ]
  },
  {
   "cell_type": "markdown",
   "metadata": {},
   "source": [
    "## 3. Prepare Data"
   ]
  },
  {
   "cell_type": "code",
   "execution_count": 5,
   "metadata": {},
   "outputs": [
    {
     "name": "stdout",
     "output_type": "stream",
     "text": [
      "10\n",
      "['0', '1', '2', '3', '4', '5', '6', '7', '8', '9']\n"
     ]
    }
   ],
   "source": [
    "# https://s3.amazonaws.com/deep-learning-models/image-models/imagenet_class_index.json\n",
    "class_idx = json.load(open(\"./model/mnist_class_PGD.json\"))\n",
    "print(len(class_idx))\n",
    "idx2label = [class_idx[str(i)] for i in range(len(class_idx))]\n",
    "print(idx2label)"
   ]
  },
  {
   "cell_type": "code",
   "execution_count": 6,
   "metadata": {},
   "outputs": [],
   "source": [
    "transform = transforms.Compose([\n",
    "    #transforms.Resize((581, 581)),\n",
    "    transforms.ToTensor(), # ToTensor : [0, 255] -> [0, 1]\n",
    "    transforms.Grayscale(num_output_channels=1),\n",
    "])"
   ]
  },
  {
   "cell_type": "code",
   "execution_count": 7,
   "metadata": {},
   "outputs": [],
   "source": [
    "def image_folder_custom_label(root, transform, custom_label) :\n",
    "    \n",
    "    # custom_label\n",
    "    # type : List\n",
    "    # index -> label\n",
    "    # ex) ['tench', 'goldfish', 'great_white_shark', 'tiger_shark']\n",
    "    \n",
    "    old_data = dsets.ImageFolder(root = root, transform = transform)\n",
    "    old_classes = old_data.classes\n",
    "    \n",
    "    label2idx = {}\n",
    "    \n",
    "    for i, item in enumerate(idx2label) :\n",
    "        label2idx[item] = i\n",
    "    \n",
    "    new_data = dsets.ImageFolder(root = root, transform = transform, \n",
    "                                 target_transform = lambda x : custom_label.index(old_classes[x]))\n",
    "    new_data.classes = idx2label\n",
    "    new_data.class_to_idx = label2idx\n",
    "\n",
    "    return new_data"
   ]
  },
  {
   "cell_type": "code",
   "execution_count": 8,
   "metadata": {
    "scrolled": true
   },
   "outputs": [],
   "source": [
    "normal_data = image_folder_custom_label(root = './Dataset/Corrupted', transform = transform, custom_label = idx2label)\n",
    "normal_loader = Data.DataLoader(normal_data, batch_size=1, shuffle=False)"
   ]
  },
  {
   "cell_type": "code",
   "execution_count": 9,
   "metadata": {},
   "outputs": [],
   "source": [
    "def imshow(img, title):\n",
    "    npimg = img.numpy()\n",
    "    fig = plt.figure(figsize = (5, 15))\n",
    "    plt.imshow(np.transpose(npimg,(1,2,0)))\n",
    "    plt.title(title)\n",
    "    plt.show()"
   ]
  },
  {
   "cell_type": "code",
   "execution_count": 10,
   "metadata": {},
   "outputs": [
    {
     "name": "stdout",
     "output_type": "stream",
     "text": [
      "True Image & True Label\n"
     ]
    },
    {
     "data": {
      "image/png": "[encoded data removed]",
      "text/plain": [
       "<Figure size 360x1080 with 1 Axes>"
      ]
     },
     "metadata": {
      "needs_background": "light"
     },
     "output_type": "display_data"
    },
    {
     "name": "stdout",
     "output_type": "stream",
     "text": [
      "torch.Size([1, 1, 28, 28])\n"
     ]
    }
   ],
   "source": [
    "normal_iter = iter(normal_loader)\n",
    "images, labels = normal_iter.next()\n",
    "print(\"True Image & True Label\")\n",
    "imshow(torchvision.utils.make_grid(images, normalize=True), [normal_data.classes[i] for i in labels])\n",
    "print(images.shape)"
   ]
  },
  {
   "cell_type": "code",
   "execution_count": 11,
   "metadata": {},
   "outputs": [
    {
     "name": "stdout",
     "output_type": "stream",
     "text": [
      "GraphModule(\n",
      "  (initializers): Module()\n",
      "  (Reshape_0): OnnxReshape()\n",
      "  (Conv_0): Conv2d(1, 64, kernel_size=(7, 7), stride=(2, 2), padding=(3, 3))\n",
      "  (Relu_0): ReLU()\n",
      "  (Pad_0): OnnxPadDynamic()\n",
      "  (MaxPool_0): MaxPool2d(kernel_size=[3, 3], stride=[2, 2], padding=[0, 0], dilation=1, ceil_mode=False)\n",
      "  (Conv_1): Conv2d(64, 256, kernel_size=(1, 1), stride=(1, 1))\n",
      "  (Conv_2): Conv2d(64, 64, kernel_size=(1, 1), stride=(1, 1))\n",
      "  (Relu_1): ReLU()\n",
      "  (Conv_3): Conv2d(64, 64, kernel_size=(3, 3), stride=(1, 1), padding=(1, 1))\n",
      "  (Relu_2): ReLU()\n",
      "  (Conv_4): Conv2d(64, 256, kernel_size=(1, 1), stride=(1, 1))\n",
      "  (Add_0): OnnxBinaryMathOperation()\n",
      "  (Relu_3): ReLU()\n",
      "  (Conv_5): Conv2d(256, 64, kernel_size=(1, 1), stride=(1, 1))\n",
      "  (Relu_4): ReLU()\n",
      "  (Conv_6): Conv2d(64, 64, kernel_size=(3, 3), stride=(1, 1), padding=(1, 1))\n",
      "  (Relu_5): ReLU()\n",
      "  (Conv_7): Conv2d(64, 256, kernel_size=(1, 1), stride=(1, 1))\n",
      "  (Add_1): OnnxBinaryMathOperation()\n",
      "  (Relu_6): ReLU()\n",
      "  (Conv_8): Conv2d(256, 64, kernel_size=(1, 1), stride=(1, 1))\n",
      "  (Relu_7): ReLU()\n",
      "  (Conv_9): Conv2d(64, 64, kernel_size=(3, 3), stride=(1, 1), padding=(1, 1))\n",
      "  (Relu_8): ReLU()\n",
      "  (Conv_10): Conv2d(64, 256, kernel_size=(1, 1), stride=(1, 1))\n",
      "  (Add_2): OnnxBinaryMathOperation()\n",
      "  (Relu_9): ReLU()\n",
      "  (Conv_11): Conv2d(256, 512, kernel_size=(1, 1), stride=(2, 2))\n",
      "  (Conv_12): Conv2d(256, 128, kernel_size=(1, 1), stride=(2, 2))\n",
      "  (Relu_10): ReLU()\n",
      "  (Conv_13): Conv2d(128, 128, kernel_size=(3, 3), stride=(1, 1), padding=(1, 1))\n",
      "  (Relu_11): ReLU()\n",
      "  (Conv_14): Conv2d(128, 512, kernel_size=(1, 1), stride=(1, 1))\n",
      "  (Add_3): OnnxBinaryMathOperation()\n",
      "  (Relu_12): ReLU()\n",
      "  (Conv_15): Conv2d(512, 128, kernel_size=(1, 1), stride=(1, 1))\n",
      "  (Relu_13): ReLU()\n",
      "  (Conv_16): Conv2d(128, 128, kernel_size=(3, 3), stride=(1, 1), padding=(1, 1))\n",
      "  (Relu_14): ReLU()\n",
      "  (Conv_17): Conv2d(128, 512, kernel_size=(1, 1), stride=(1, 1))\n",
      "  (Add_4): OnnxBinaryMathOperation()\n",
      "  (Relu_15): ReLU()\n",
      "  (Conv_18): Conv2d(512, 128, kernel_size=(1, 1), stride=(1, 1))\n",
      "  (Relu_16): ReLU()\n",
      "  (Conv_19): Conv2d(128, 128, kernel_size=(3, 3), stride=(1, 1), padding=(1, 1))\n",
      "  (Relu_17): ReLU()\n",
      "  (Conv_20): Conv2d(128, 512, kernel_size=(1, 1), stride=(1, 1))\n",
      "  (Add_5): OnnxBinaryMathOperation()\n",
      "  (Relu_18): ReLU()\n",
      "  (Conv_21): Conv2d(512, 128, kernel_size=(1, 1), stride=(1, 1))\n",
      "  (Relu_19): ReLU()\n",
      "  (Conv_22): Conv2d(128, 128, kernel_size=(3, 3), stride=(1, 1), padding=(1, 1))\n",
      "  (Relu_20): ReLU()\n",
      "  (Conv_23): Conv2d(128, 512, kernel_size=(1, 1), stride=(1, 1))\n",
      "  (Add_6): OnnxBinaryMathOperation()\n",
      "  (Relu_21): ReLU()\n",
      "  (Conv_24): Conv2d(512, 1024, kernel_size=(1, 1), stride=(2, 2))\n",
      "  (Conv_25): Conv2d(512, 256, kernel_size=(1, 1), stride=(2, 2))\n",
      "  (Relu_22): ReLU()\n",
      "  (Conv_26): Conv2d(256, 256, kernel_size=(3, 3), stride=(1, 1), padding=(1, 1))\n",
      "  (Relu_23): ReLU()\n",
      "  (Conv_27): Conv2d(256, 1024, kernel_size=(1, 1), stride=(1, 1))\n",
      "  (Add_7): OnnxBinaryMathOperation()\n",
      "  (Relu_24): ReLU()\n",
      "  (Conv_28): Conv2d(1024, 256, kernel_size=(1, 1), stride=(1, 1))\n",
      "  (Relu_25): ReLU()\n",
      "  (Conv_29): Conv2d(256, 256, kernel_size=(3, 3), stride=(1, 1), padding=(1, 1))\n",
      "  (Relu_26): ReLU()\n",
      "  (Conv_30): Conv2d(256, 1024, kernel_size=(1, 1), stride=(1, 1))\n",
      "  (Add_8): OnnxBinaryMathOperation()\n",
      "  (Relu_27): ReLU()\n",
      "  (Conv_31): Conv2d(1024, 256, kernel_size=(1, 1), stride=(1, 1))\n",
      "  (Relu_28): ReLU()\n",
      "  (Conv_32): Conv2d(256, 256, kernel_size=(3, 3), stride=(1, 1), padding=(1, 1))\n",
      "  (Relu_29): ReLU()\n",
      "  (Conv_33): Conv2d(256, 1024, kernel_size=(1, 1), stride=(1, 1))\n",
      "  (Add_9): OnnxBinaryMathOperation()\n",
      "  (Relu_30): ReLU()\n",
      "  (Conv_34): Conv2d(1024, 256, kernel_size=(1, 1), stride=(1, 1))\n",
      "  (Relu_31): ReLU()\n",
      "  (Conv_35): Conv2d(256, 256, kernel_size=(3, 3), stride=(1, 1), padding=(1, 1))\n",
      "  (Relu_32): ReLU()\n",
      "  (Conv_36): Conv2d(256, 1024, kernel_size=(1, 1), stride=(1, 1))\n",
      "  (Add_10): OnnxBinaryMathOperation()\n",
      "  (Relu_33): ReLU()\n",
      "  (Conv_37): Conv2d(1024, 256, kernel_size=(1, 1), stride=(1, 1))\n",
      "  (Relu_34): ReLU()\n",
      "  (Conv_38): Conv2d(256, 256, kernel_size=(3, 3), stride=(1, 1), padding=(1, 1))\n",
      "  (Relu_35): ReLU()\n",
      "  (Conv_39): Conv2d(256, 1024, kernel_size=(1, 1), stride=(1, 1))\n",
      "  (Add_11): OnnxBinaryMathOperation()\n",
      "  (Relu_36): ReLU()\n",
      "  (Conv_40): Conv2d(1024, 256, kernel_size=(1, 1), stride=(1, 1))\n",
      "  (Relu_37): ReLU()\n",
      "  (Conv_41): Conv2d(256, 256, kernel_size=(3, 3), stride=(1, 1), padding=(1, 1))\n",
      "  (Relu_38): ReLU()\n",
      "  (Conv_42): Conv2d(256, 1024, kernel_size=(1, 1), stride=(1, 1))\n",
      "  (Add_12): OnnxBinaryMathOperation()\n",
      "  (Relu_39): ReLU()\n",
      "  (Conv_43): Conv2d(1024, 2048, kernel_size=(1, 1), stride=(2, 2))\n",
      "  (Conv_44): Conv2d(1024, 512, kernel_size=(1, 1), stride=(2, 2))\n",
      "  (Relu_40): ReLU()\n",
      "  (Conv_45): Conv2d(512, 512, kernel_size=(3, 3), stride=(1, 1), padding=(1, 1))\n",
      "  (Relu_41): ReLU()\n",
      "  (Conv_46): Conv2d(512, 2048, kernel_size=(1, 1), stride=(1, 1))\n",
      "  (Add_13): OnnxBinaryMathOperation()\n",
      "  (Relu_42): ReLU()\n",
      "  (Conv_47): Conv2d(2048, 512, kernel_size=(1, 1), stride=(1, 1))\n",
      "  (Relu_43): ReLU()\n",
      "  (Conv_48): Conv2d(512, 512, kernel_size=(3, 3), stride=(1, 1), padding=(1, 1))\n",
      "  (Relu_44): ReLU()\n",
      "  (Conv_49): Conv2d(512, 2048, kernel_size=(1, 1), stride=(1, 1))\n",
      "  (Add_14): OnnxBinaryMathOperation()\n",
      "  (Relu_45): ReLU()\n",
      "  (Conv_50): Conv2d(2048, 512, kernel_size=(1, 1), stride=(1, 1))\n",
      "  (Relu_46): ReLU()\n",
      "  (Conv_51): Conv2d(512, 512, kernel_size=(3, 3), stride=(1, 1), padding=(1, 1))\n",
      "  (Relu_47): ReLU()\n",
      "  (Conv_52): Conv2d(512, 2048, kernel_size=(1, 1), stride=(1, 1))\n",
      "  (Add_15): OnnxBinaryMathOperation()\n",
      "  (Relu_48): ReLU()\n",
      "  (GlobalAveragePool_0): OnnxGlobalAveragePoolWithKnownInputShape()\n",
      "  (Squeeze_0): OnnxSqueezeDynamicAxes()\n",
      "  (MatMul_0): OnnxMatMul()\n",
      "  (Add_16): OnnxBinaryMathOperation()\n",
      "  (Softmax_0): Softmax(dim=-1)\n",
      ")\n",
      "\n",
      "\n",
      "\n",
      "def forward(self, input_1):\n",
      "    initializers_onnx_initializer_0 = self.initializers.onnx_initializer_0\n",
      "    reshape_0 = self.Reshape_0(input_1, initializers_onnx_initializer_0);  input_1 = initializers_onnx_initializer_0 = None\n",
      "    conv_0 = self.Conv_0(reshape_0);  reshape_0 = None\n",
      "    relu_0 = self.Relu_0(conv_0);  conv_0 = None\n",
      "    initializers_onnx_initializer_1 = self.initializers.onnx_initializer_1\n",
      "    pad_0 = self.Pad_0(relu_0, initializers_onnx_initializer_1);  relu_0 = initializers_onnx_initializer_1 = None\n",
      "    max_pool_0 = self.MaxPool_0(pad_0);  pad_0 = None\n",
      "    conv_1 = self.Conv_1(max_pool_0)\n",
      "    conv_2 = self.Conv_2(max_pool_0);  max_pool_0 = None\n",
      "    relu_1 = self.Relu_1(conv_2);  conv_2 = None\n",
      "    conv_3 = self.Conv_3(relu_1);  relu_1 = None\n",
      "    relu_2 = self.Relu_2(conv_3);  conv_3 = None\n",
      "    conv_4 = self.Conv_4(relu_2);  relu_2 = None\n",
      "    add_0 = self.Add_0(conv_4, conv_1);  conv_4 = conv_1 = None\n",
      "    relu_3 = self.Relu_3(add_0);  add_0 = None\n",
      "    conv_5 = self.Conv_5(relu_3)\n",
      "    relu_4 = self.Relu_4(conv_5);  conv_5 = None\n",
      "    conv_6 = self.Conv_6(relu_4);  relu_4 = None\n",
      "    relu_5 = self.Relu_5(conv_6);  conv_6 = None\n",
      "    conv_7 = self.Conv_7(relu_5);  relu_5 = None\n",
      "    add_1 = self.Add_1(conv_7, relu_3);  conv_7 = relu_3 = None\n",
      "    relu_6 = self.Relu_6(add_1);  add_1 = None\n",
      "    conv_8 = self.Conv_8(relu_6)\n",
      "    relu_7 = self.Relu_7(conv_8);  conv_8 = None\n",
      "    conv_9 = self.Conv_9(relu_7);  relu_7 = None\n",
      "    relu_8 = self.Relu_8(conv_9);  conv_9 = None\n",
      "    conv_10 = self.Conv_10(relu_8);  relu_8 = None\n",
      "    add_2 = self.Add_2(conv_10, relu_6);  conv_10 = relu_6 = None\n",
      "    relu_9 = self.Relu_9(add_2);  add_2 = None\n",
      "    conv_11 = self.Conv_11(relu_9)\n",
      "    conv_12 = self.Conv_12(relu_9);  relu_9 = None\n",
      "    relu_10 = self.Relu_10(conv_12);  conv_12 = None\n",
      "    conv_13 = self.Conv_13(relu_10);  relu_10 = None\n",
      "    relu_11 = self.Relu_11(conv_13);  conv_13 = None\n",
      "    conv_14 = self.Conv_14(relu_11);  relu_11 = None\n",
      "    add_3 = self.Add_3(conv_14, conv_11);  conv_14 = conv_11 = None\n",
      "    relu_12 = self.Relu_12(add_3);  add_3 = None\n",
      "    conv_15 = self.Conv_15(relu_12)\n",
      "    relu_13 = self.Relu_13(conv_15);  conv_15 = None\n",
      "    conv_16 = self.Conv_16(relu_13);  relu_13 = None\n",
      "    relu_14 = self.Relu_14(conv_16);  conv_16 = None\n",
      "    conv_17 = self.Conv_17(relu_14);  relu_14 = None\n",
      "    add_4 = self.Add_4(conv_17, relu_12);  conv_17 = relu_12 = None\n",
      "    relu_15 = self.Relu_15(add_4);  add_4 = None\n",
      "    conv_18 = self.Conv_18(relu_15)\n",
      "    relu_16 = self.Relu_16(conv_18);  conv_18 = None\n",
      "    conv_19 = self.Conv_19(relu_16);  relu_16 = None\n",
      "    relu_17 = self.Relu_17(conv_19);  conv_19 = None\n",
      "    conv_20 = self.Conv_20(relu_17);  relu_17 = None\n",
      "    add_5 = self.Add_5(conv_20, relu_15);  conv_20 = relu_15 = None\n",
      "    relu_18 = self.Relu_18(add_5);  add_5 = None\n",
      "    conv_21 = self.Conv_21(relu_18)\n",
      "    relu_19 = self.Relu_19(conv_21);  conv_21 = None\n",
      "    conv_22 = self.Conv_22(relu_19);  relu_19 = None\n",
      "    relu_20 = self.Relu_20(conv_22);  conv_22 = None\n",
      "    conv_23 = self.Conv_23(relu_20);  relu_20 = None\n",
      "    add_6 = self.Add_6(conv_23, relu_18);  conv_23 = relu_18 = None\n",
      "    relu_21 = self.Relu_21(add_6);  add_6 = None\n",
      "    conv_24 = self.Conv_24(relu_21)\n",
      "    conv_25 = self.Conv_25(relu_21);  relu_21 = None\n",
      "    relu_22 = self.Relu_22(conv_25);  conv_25 = None\n",
      "    conv_26 = self.Conv_26(relu_22);  relu_22 = None\n",
      "    relu_23 = self.Relu_23(conv_26);  conv_26 = None\n",
      "    conv_27 = self.Conv_27(relu_23);  relu_23 = None\n",
      "    add_7 = self.Add_7(conv_27, conv_24);  conv_27 = conv_24 = None\n",
      "    relu_24 = self.Relu_24(add_7);  add_7 = None\n",
      "    conv_28 = self.Conv_28(relu_24)\n",
      "    relu_25 = self.Relu_25(conv_28);  conv_28 = None\n",
      "    conv_29 = self.Conv_29(relu_25);  relu_25 = None\n",
      "    relu_26 = self.Relu_26(conv_29);  conv_29 = None\n",
      "    conv_30 = self.Conv_30(relu_26);  relu_26 = None\n",
      "    add_8 = self.Add_8(conv_30, relu_24);  conv_30 = relu_24 = None\n",
      "    relu_27 = self.Relu_27(add_8);  add_8 = None\n",
      "    conv_31 = self.Conv_31(relu_27)\n",
      "    relu_28 = self.Relu_28(conv_31);  conv_31 = None\n",
      "    conv_32 = self.Conv_32(relu_28);  relu_28 = None\n",
      "    relu_29 = self.Relu_29(conv_32);  conv_32 = None\n",
      "    conv_33 = self.Conv_33(relu_29);  relu_29 = None\n",
      "    add_9 = self.Add_9(conv_33, relu_27);  conv_33 = relu_27 = None\n",
      "    relu_30 = self.Relu_30(add_9);  add_9 = None\n",
      "    conv_34 = self.Conv_34(relu_30)\n",
      "    relu_31 = self.Relu_31(conv_34);  conv_34 = None\n",
      "    conv_35 = self.Conv_35(relu_31);  relu_31 = None\n",
      "    relu_32 = self.Relu_32(conv_35);  conv_35 = None\n",
      "    conv_36 = self.Conv_36(relu_32);  relu_32 = None\n",
      "    add_10 = self.Add_10(conv_36, relu_30);  conv_36 = relu_30 = None\n",
      "    relu_33 = self.Relu_33(add_10);  add_10 = None\n",
      "    conv_37 = self.Conv_37(relu_33)\n",
      "    relu_34 = self.Relu_34(conv_37);  conv_37 = None\n",
      "    conv_38 = self.Conv_38(relu_34);  relu_34 = None\n",
      "    relu_35 = self.Relu_35(conv_38);  conv_38 = None\n",
      "    conv_39 = self.Conv_39(relu_35);  relu_35 = None\n",
      "    add_11 = self.Add_11(conv_39, relu_33);  conv_39 = relu_33 = None\n",
      "    relu_36 = self.Relu_36(add_11);  add_11 = None\n",
      "    conv_40 = self.Conv_40(relu_36)\n",
      "    relu_37 = self.Relu_37(conv_40);  conv_40 = None\n",
      "    conv_41 = self.Conv_41(relu_37);  relu_37 = None\n",
      "    relu_38 = self.Relu_38(conv_41);  conv_41 = None\n",
      "    conv_42 = self.Conv_42(relu_38);  relu_38 = None\n",
      "    add_12 = self.Add_12(conv_42, relu_36);  conv_42 = relu_36 = None\n",
      "    relu_39 = self.Relu_39(add_12);  add_12 = None\n",
      "    conv_43 = self.Conv_43(relu_39)\n",
      "    conv_44 = self.Conv_44(relu_39);  relu_39 = None\n",
      "    relu_40 = self.Relu_40(conv_44);  conv_44 = None\n",
      "    conv_45 = self.Conv_45(relu_40);  relu_40 = None\n",
      "    relu_41 = self.Relu_41(conv_45);  conv_45 = None\n",
      "    conv_46 = self.Conv_46(relu_41);  relu_41 = None\n",
      "    add_13 = self.Add_13(conv_46, conv_43);  conv_46 = conv_43 = None\n",
      "    relu_42 = self.Relu_42(add_13);  add_13 = None\n",
      "    conv_47 = self.Conv_47(relu_42)\n",
      "    relu_43 = self.Relu_43(conv_47);  conv_47 = None\n",
      "    conv_48 = self.Conv_48(relu_43);  relu_43 = None\n",
      "    relu_44 = self.Relu_44(conv_48);  conv_48 = None\n",
      "    conv_49 = self.Conv_49(relu_44);  relu_44 = None\n",
      "    add_14 = self.Add_14(conv_49, relu_42);  conv_49 = relu_42 = None\n",
      "    relu_45 = self.Relu_45(add_14);  add_14 = None\n",
      "    conv_50 = self.Conv_50(relu_45)\n",
      "    relu_46 = self.Relu_46(conv_50);  conv_50 = None\n",
      "    conv_51 = self.Conv_51(relu_46);  relu_46 = None\n",
      "    relu_47 = self.Relu_47(conv_51);  conv_51 = None\n",
      "    conv_52 = self.Conv_52(relu_47);  relu_47 = None\n",
      "    add_15 = self.Add_15(conv_52, relu_45);  conv_52 = relu_45 = None\n",
      "    relu_48 = self.Relu_48(add_15);  add_15 = None\n",
      "    global_average_pool_0 = self.GlobalAveragePool_0(relu_48);  relu_48 = None\n",
      "    initializers_onnx_initializer_2 = self.initializers.onnx_initializer_2\n",
      "    squeeze_0 = self.Squeeze_0(global_average_pool_0, initializers_onnx_initializer_2);  global_average_pool_0 = initializers_onnx_initializer_2 = None\n",
      "    initializers_onnx_initializer_3 = self.initializers.onnx_initializer_3\n",
      "    mat_mul_0 = self.MatMul_0(squeeze_0, initializers_onnx_initializer_3);  squeeze_0 = initializers_onnx_initializer_3 = None\n",
      "    initializers_onnx_initializer_4 = self.initializers.onnx_initializer_4\n",
      "    add_16 = self.Add_16(mat_mul_0, initializers_onnx_initializer_4);  mat_mul_0 = initializers_onnx_initializer_4 = None\n",
      "    softmax_0 = self.Softmax_0(add_16);  add_16 = None\n",
      "    return softmax_0\n",
      "    \n"
     ]
    }
   ],
   "source": [
    "model = torch.load('./model/MNIST.pth')# Loading the Trained on the MNIST Dataset\n",
    "model.eval()\n",
    "print(model)#Printing the Model Architecture\n",
    "if torch.cuda.is_available():\n",
    "    model.cuda()\n",
    "#torchsummary.summary(model,(3,512,512))"
   ]
  },
  {
   "cell_type": "markdown",
   "metadata": {},
   "source": [
    "## 5. Rectificaion"
   ]
  },
  {
   "cell_type": "markdown",
   "metadata": {},
   "source": [
    "$$x^{t+1} = \\Pi_{x+S}(x^t-\\alpha sgn(\\bigtriangledown_x L(\\theta, x, y)))$$\n",
    "* $S$ : a set of allowed perturbations"
   ]
  },
  {
   "cell_type": "code",
   "execution_count": 12,
   "metadata": {},
   "outputs": [],
   "source": [
    "def pgd_rect(model, images, labels, eps=0.4, alpha=2/255, iters=40) :\n",
    "    images = images.to(device)\n",
    "    labels = labels.to(device)\n",
    "    loss = nn.CrossEntropyLoss()\n",
    "\n",
    "    ori_images = images.data\n",
    "        \n",
    "    for i in range(iters) :    \n",
    "        images.requires_grad = True\n",
    "        outputs = model(images)\n",
    "\n",
    "        model.zero_grad()\n",
    "        cost = loss(outputs, labels).to(device)\n",
    "        cost.backward()\n",
    "\n",
    "        adv_images = images - alpha*images.grad.sign()\n",
    "        eta = torch.clamp(adv_images - ori_images, min=-eps, max=eps)\n",
    "        images = torch.clamp(ori_images + eta, min=0, max=1).detach_()\n",
    "            \n",
    "    return images"
   ]
  },
  {
   "cell_type": "code",
   "execution_count": 13,
   "metadata": {
    "scrolled": true
   },
   "outputs": [
    {
     "name": "stdout",
     "output_type": "stream",
     "text": [
      "Attack Image & Predicted Label\n",
      "Accuracy of test text: 100.000000 %\n"
     ]
    }
   ],
   "source": [
    "# print(\"Rectified Image & Predicted Label\")\n",
    "\n",
    "model.eval()\n",
    "\n",
    "correct = 0\n",
    "total = 0\n",
    "\n",
    "allFiles, _ = map(list, zip(*normal_loader.dataset.samples))\n",
    "\n",
    "for i, (images, labels) in enumerate(normal_loader):\n",
    "    \n",
    "    images = pgd_rect(model, images, labels)\n",
    "    labels = labels.to(device)\n",
    "    outputs = model(images)\n",
    "    \n",
    "    #print(i)\n",
    "    for j in range(images.size()[0]):\n",
    "        \n",
    "        path_size = len(allFiles[ i ])\n",
    "        im_name = ''\n",
    "        for k in range(path_size, 1, -1):\n",
    "            if(allFiles[i][k-1] != '/'):\n",
    "                im_name = im_name + allFiles[i][k-1]\n",
    "            else:\n",
    "                break\n",
    "        im_name = list(im_name)\n",
    "        im_name.reverse()\n",
    "        im_name = ''.join(im_name)\n",
    "        \n",
    "    _, pre = torch.max(outputs.data, 1)\n",
    "\n",
    "    total += 1\n",
    "    correct += (pre == labels).sum()\n",
    "\n",
    "#    save_image(images, './Dataset/Rectified/'+ im_name )\n",
    "#     print(im_name)\n",
    "#     print('number %d image has been successfully saved. %s' % (i,datetime.now().time()))\n",
    "    i = i+1\n",
    "print('Accuracy of test text: %f %%' % (100 * float(correct) / total))"
   ]
  },
  {
   "cell_type": "code",
   "execution_count": null,
   "metadata": {},
   "outputs": [],
   "source": []
  }
 ],
 "metadata": {
  "kernelspec": {
   "display_name": "Python 3 (ipykernel)",
   "language": "python",
   "name": "python3"
  },
  "language_info": {
   "codemirror_mode": {
    "name": "ipython",
    "version": 3
   },
   "file_extension": ".py",
   "mimetype": "text/x-python",
   "name": "python",
   "nbconvert_exporter": "python",
   "pygments_lexer": "ipython3",
   "version": "3.8.10"
  }
 },
 "nbformat": 4,
 "nbformat_minor": 2
}
